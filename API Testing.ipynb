{
 "cells": [
  {
   "cell_type": "code",
   "execution_count": 2,
   "id": "80ee363b",
   "metadata": {},
   "outputs": [],
   "source": [
    "import requests\n",
    "from config import webster_key"
   ]
  },
  {
   "cell_type": "code",
   "execution_count": 3,
   "id": "67a91386",
   "metadata": {},
   "outputs": [],
   "source": [
    "word = 'variety'\n",
    "uri = f'https://www.dictionaryapi.com/api/v3/references/collegiate/json/{word}?key={webster_key}'"
   ]
  },
  {
   "cell_type": "code",
   "execution_count": 4,
   "id": "9214ed74",
   "metadata": {},
   "outputs": [],
   "source": [
    "response = requests.get(uri)\n",
    "answer = response.json()"
   ]
  },
  {
   "cell_type": "code",
   "execution_count": 5,
   "id": "8fe92050",
   "metadata": {},
   "outputs": [
    {
     "data": {
      "text/plain": [
       "{'meta': {'id': 'subvariety',\n",
       "  'uuid': '941ebb6e-ccc7-477c-b08a-29cb24ef1bd9',\n",
       "  'sort': '194914450',\n",
       "  'src': 'collegiate',\n",
       "  'section': 'alpha',\n",
       "  'stems': ['sub-varieties', 'sub-variety', 'subvarieties', 'subvariety'],\n",
       "  'offensive': False},\n",
       " 'hwi': {'hw': 'sub*va*ri*e*ty',\n",
       "  'prs': [{'mw': 'ˌsəb-və-ˈrī-ə-tē',\n",
       "    'sound': {'audio': 'subvariety_1', 'ref': 'owl', 'stat': '1'}}]},\n",
       " 'vrs': [{'vl': 'or', 'va': 'sub-va*ri*e*ty'}],\n",
       " 'fl': 'noun',\n",
       " 'ins': [{'il': 'plural', 'if': 'sub*va*ri*e*ties'},\n",
       "  {'il': 'or', 'if': 'sub-va*ri*e*ties'}],\n",
       " 'def': [{'sseq': [[['sense',\n",
       "      {'dt': [['text',\n",
       "         '{bc}a {d_link|variety|variety} that is a subdivision of a larger variety '],\n",
       "        ['vis',\n",
       "         [{'t': 'a {wi}subvariety{/wi} of the {d_link|muscat|muscat} grape'},\n",
       "          {'t': 'UK English has four main {wi}subvarieties{/wi}: Welsh, Scots, Northern Irish, and England English …',\n",
       "           'aq': {'auth': 'John Algeo'}}]]]}]]]}],\n",
       " 'date': '1785',\n",
       " 'shortdef': ['a variety that is a subdivision of a larger variety']}"
      ]
     },
     "execution_count": 5,
     "metadata": {},
     "output_type": "execute_result"
    }
   ],
   "source": [
    "answer[6]"
   ]
  },
  {
   "cell_type": "code",
   "execution_count": null,
   "id": "971ef037",
   "metadata": {},
   "outputs": [],
   "source": []
  },
  {
   "cell_type": "code",
   "execution_count": 56,
   "id": "fe209283",
   "metadata": {},
   "outputs": [],
   "source": [
    "def options(answers):\n",
    "    choices = []\n",
    "    for i, answer in enumerate(answers):\n",
    "        choices.append(answers[i]['meta']['id'])\n",
    "    print(f'There are {len(answers)} entries for {word}. Please select an entry to view its definition:')\n",
    "    for i, choice in enumerate(choices):\n",
    "        print(f'{i+1}. {choice}')"
   ]
  },
  {
   "cell_type": "code",
   "execution_count": 57,
   "id": "e336563b",
   "metadata": {},
   "outputs": [
    {
     "name": "stdout",
     "output_type": "stream",
     "text": [
      "There are 7 entries for variety. Please select an entry to view its definition:\n",
      "1. variety\n",
      "2. variety meat\n",
      "3. variety show\n",
      "4. variety store\n",
      "5. variety is the spice of life\n",
      "6. garden-variety\n",
      "7. subvariety\n"
     ]
    }
   ],
   "source": [
    "options(answer)"
   ]
  },
  {
   "cell_type": "code",
   "execution_count": 92,
   "id": "8c90b11e",
   "metadata": {},
   "outputs": [],
   "source": [
    "def definition(n):\n",
    "    n = n-1\n",
    "    return answer[n]['shortdef']"
   ]
  },
  {
   "cell_type": "code",
   "execution_count": 93,
   "id": "4484a19b",
   "metadata": {},
   "outputs": [
    {
     "data": {
      "text/plain": [
       "['ordinary, commonplace']"
      ]
     },
     "execution_count": 93,
     "metadata": {},
     "output_type": "execute_result"
    }
   ],
   "source": [
    "definition(6)"
   ]
  },
  {
   "cell_type": "code",
   "execution_count": null,
   "id": "71c58a97",
   "metadata": {},
   "outputs": [],
   "source": []
  }
 ],
 "metadata": {
  "kernelspec": {
   "display_name": "Python 3",
   "language": "python",
   "name": "python3"
  },
  "language_info": {
   "codemirror_mode": {
    "name": "ipython",
    "version": 3
   },
   "file_extension": ".py",
   "mimetype": "text/x-python",
   "name": "python",
   "nbconvert_exporter": "python",
   "pygments_lexer": "ipython3",
   "version": "3.8.8"
  }
 },
 "nbformat": 4,
 "nbformat_minor": 5
}
